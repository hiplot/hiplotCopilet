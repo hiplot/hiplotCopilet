{
 "cells": [
  {
   "cell_type": "code",
   "execution_count": 1,
   "id": "initial_id",
   "metadata": {
    "collapsed": true,
    "ExecuteTime": {
     "end_time": "2024-02-04T09:18:01.992739500Z",
     "start_time": "2024-02-04T09:17:13.402544800Z"
    }
   },
   "outputs": [
    {
     "name": "stderr",
     "output_type": "stream",
     "text": [
      "/root/anaconda3/envs/hiplotCopilot/lib/python3.10/site-packages/pydantic/_internal/_fields.py:149: UserWarning: Field \"model_name\" has conflict with protected namespace \"model_\".\n",
      "\n",
      "You may be able to resolve this warning by setting `model_config['protected_namespaces'] = ()`.\n",
      "  warnings.warn(\n"
     ]
    },
    {
     "name": "stdout",
     "output_type": "stream",
     "text": [
      "\u001B[32mLoading embedding model......\n",
      "\u001B[0m\u001B[32mLoading embedding model successful!\n",
      "\u001B[0m\u001B[32mConnecting milvus......\n",
      "\u001B[0m\u001B[32mMilvus connect successful!\n",
      "\u001B[0m\u001B[32mBuilding hiplot_doc collection and index......\n",
      "\u001B[0m\u001B[32mCollection and index build successful!\n",
      "\u001B[0m\u001B[32mBuilding hiplot_plugins collection and index......\n",
      "\u001B[0m\u001B[32mCollection and index build successful!\n",
      "\u001B[0m"
     ]
    }
   ],
   "source": [
    "from pipeline.qa import hiplot_doc_qa_pipeline"
   ]
  },
  {
   "cell_type": "code",
   "execution_count": 2,
   "outputs": [
    {
     "data": {
      "text/plain": "'Hiplot是一个数据可视化工具，它提供了多种可视化插件和工具，包括散点图、线图、饼图、热图、词云等。用户可以使用Hiplot来创建各种类型的数据可视化图表，以便更好地理解和分析数据。同时，Hiplot还提供了开源和高级开发者仓库，以及一系列工具调试方案，使开发者能够定制和优化数据可视化工具。'"
     },
     "execution_count": 2,
     "metadata": {},
     "output_type": "execute_result"
    }
   ],
   "source": [
    "hiplot_doc_qa_pipeline(\"Hiplot是什么？\").get()[0]"
   ],
   "metadata": {
    "collapsed": false,
    "ExecuteTime": {
     "end_time": "2024-02-04T09:18:07.091146100Z",
     "start_time": "2024-02-04T09:18:02.032993700Z"
    }
   },
   "id": "60d9b2d20611ef88"
  },
  {
   "cell_type": "code",
   "execution_count": 3,
   "outputs": [
    {
     "data": {
      "text/plain": "'Hiplot目前支持的绘图工具包括：\\n\\n1. 鱼形图\\n2. 渐变散点图\\n3. 散点饼图\\n4. 马赛克比例图\\n5. 网络图 (igraph)\\n6. 彩色矩阵气泡\\n7. 弦图\\n8. 相关性热图 (Corrplot)\\n9. ggplot2词云\\n\\n这些工具可以用于可视化不同类型的数据和关系。'"
     },
     "execution_count": 3,
     "metadata": {},
     "output_type": "execute_result"
    }
   ],
   "source": [
    "hiplot_doc_qa_pipeline(\"Hiplot目前支持哪些绘图工具\").get()[0]"
   ],
   "metadata": {
    "collapsed": false,
    "ExecuteTime": {
     "end_time": "2024-02-04T09:18:13.653055900Z",
     "start_time": "2024-02-04T09:18:07.101335200Z"
    }
   },
   "id": "d83abe608876f1f2"
  },
  {
   "cell_type": "code",
   "outputs": [],
   "source": [],
   "metadata": {
    "collapsed": false
   },
   "id": "4285c27500b0e59b"
  }
 ],
 "metadata": {
  "kernelspec": {
   "display_name": "Python 3",
   "language": "python",
   "name": "python3"
  },
  "language_info": {
   "codemirror_mode": {
    "name": "ipython",
    "version": 2
   },
   "file_extension": ".py",
   "mimetype": "text/x-python",
   "name": "python",
   "nbconvert_exporter": "python",
   "pygments_lexer": "ipython2",
   "version": "2.7.6"
  }
 },
 "nbformat": 4,
 "nbformat_minor": 5
}
